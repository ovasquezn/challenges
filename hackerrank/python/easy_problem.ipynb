{
 "cells": [
  {
   "cell_type": "markdown",
   "id": "fb8f9474",
   "metadata": {},
   "source": [
    "# Alphabet Rangoli\n",
    "You are given an integer, . Your task is to print an alphabet rangoli of size . (Rangoli is a form of Indian folk art based on creation of patterns.)\n",
    "Different sizes of alphabet rangoli are shown below:\n",
    "\n",
    "The center of the rangoli has the first alphabet letter a, and the boundary has the alphabet letter (in alphabetical order).\n",
    "Function Description\n",
    "Complete the rangoli function in the editor below.\n",
    "rangoli has the following parameters:\n",
    "int size: the size of the rangoli\n",
    "Returns\n",
    "string: a single string made up of each of the lines of the rangoli separated by a newline character (\\n)\n",
    "Input Format\n",
    "Only one line of input containing , the size of the rangoli.\n",
    "Constraints\n",
    "\n",
    "Sample Input\n",
    "```\n",
    "5\n",
    "```\n",
    "Sample Output\n",
    "```\n",
    "--------e--------\n",
    "------e-d-e------\n",
    "----e-d-c-d-e----\n",
    "--e-d-c-b-c-d-e--\n",
    "e-d-c-b-a-b-c-d-e\n",
    "--e-d-c-b-c-d-e--\n",
    "----e-d-c-d-e----\n",
    "------e-d-e------\n",
    "--------e--------\n",
    "````"
   ]
  },
  {
   "cell_type": "code",
   "execution_count": 9,
   "id": "6ee366f1",
   "metadata": {},
   "outputs": [
    {
     "name": "stdout",
     "output_type": "stream",
     "text": [
      "----c----\n",
      "--c-b-c--\n",
      "c-b-a-b-c\n",
      "--c-b-c--\n",
      "----c----\n"
     ]
    }
   ],
   "source": [
    "def print_rangoli(size):\n",
    "    alphabet = 'abcdefghijklmnopqrstuvwxyz'\n",
    "    # Calcula el ancho\n",
    "    # Si tememos 1 letra el ancho será 1 letras mas 0 guiones: 1\n",
    "    # Si tenemos 2 letras el ancho será 3 letras mas 2 guines: 5\n",
    "    # Si tenemos 3 letras el ancho será 5 letras mas 4 guines: 9\n",
    "    #...\n",
    "    # x_i = 1 + 4*(i-1)\n",
    "    width = 4 * size - 3\n",
    "\n",
    "    # Pasamos el range() a lista para usar rebanado y concatenación\n",
    "    # list(range(size)range(size)[::-1] para [...,3,2,1,0]\n",
    "    # list(range(1, size)) para [1,2,3,...]\n",
    "    for i in list(range(size))[::-1] + list(range(1, size)):\n",
    "        # .center(width, '-') para rellenar\n",
    "        print('-'.join(alphabet[size-1:i:-1] + alphabet[i:size]).center(width, '-'))\n",
    "\n",
    "if __name__ == '__main__':\n",
    "    print_rangoli(int(input()))\n"
   ]
  },
  {
   "cell_type": "code",
   "execution_count": null,
   "id": "cb60bca7",
   "metadata": {},
   "outputs": [],
   "source": [
    "# Capitalize\n",
    "\n",
    "You are asked to ensure that the first and last names of people begin with a capital letter in their passports. For example, alison heck should be capitalised correctly as Alison Heck.\n",
    "\n",
    "Given a full name, your task is to capitalize the name appropriately.\n",
    "Input Format\n",
    "A single line of input containing the full name, .\n",
    "Constraints\n",
    "\n",
    "The string consists of alphanumeric characters and spaces.\n",
    "Note: in a word only the first character is capitalized. Example 12abc when capitalized remains 12abc.\n",
    "Output Format\n",
    "Print the capitalized string, .\n",
    "\n",
    "Sample Input\n",
    "chris alan\n",
    "Sample Output\n",
    "Chris Alan"
   ]
  },
  {
   "cell_type": "markdown",
   "id": "3da888b2",
   "metadata": {},
   "source": [
    "# "
   ]
  },
  {
   "cell_type": "code",
   "execution_count": null,
   "id": "75ac7b6d",
   "metadata": {},
   "outputs": [
    {
     "name": "stdout",
     "output_type": "stream",
     "text": [
      "Texto  Ejemplo\n"
     ]
    }
   ],
   "source": [
    "#!/bin/python3\n",
    "\n",
    "import math\n",
    "import os\n",
    "import random\n",
    "import re\n",
    "import sys\n",
    "\n",
    "# Complete the solve function below.\n",
    "def solve(s):\n",
    "    result = []\n",
    "    # strip() elimina todos los espacios, debemos solo eliminar uno\n",
    "    for i in s.split(' '):\n",
    "        result.append(i.capitalize())\n",
    "    return  \" \".join(result)\n",
    "    #return ' '.join(word.capitalize() if word else ' ' for word in s.split(' '))\n",
    "\n",
    "if __name__ == '__main__':\n",
    "    print(solve(\"texto  ejemplo\"))"
   ]
  },
  {
   "cell_type": "code",
   "execution_count": null,
   "id": "67a9838b",
   "metadata": {},
   "outputs": [],
   "source": [
    "# itertools.product()"
   ]
  },
  {
   "cell_type": "markdown",
   "id": "2c1cfb98",
   "metadata": {},
   "source": [
    "itertools.product()\n",
    "This tool computes the cartesian product of input iterables.\n",
    "It is equivalent to nested for-loops.\n",
    "For example, product(A, B) returns the same as ((x,y) for x in A for y in B)."
   ]
  },
  {
   "cell_type": "markdown",
   "id": "b13b6278",
   "metadata": {},
   "source": [
    ">>> from itertools import product\n",
    ">>>\n",
    ">>> print list(product([1,2,3],repeat = 2))\n",
    "[(1, 1), (1, 2), (1, 3), (2, 1), (2, 2), (2, 3), (3, 1), (3, 2), (3, 3)]\n",
    ">>>\n",
    ">>> print list(product([1,2,3],[3,4]))\n",
    "[(1, 3), (1, 4), (2, 3), (2, 4), (3, 3), (3, 4)]\n",
    ">>>\n",
    ">>> A = [[1,2,3],[3,4,5]]\n",
    ">>> print list(product(*A))\n",
    "[(1, 3), (1, 4), (1, 5), (2, 3), (2, 4), (2, 5), (3, 3), (3, 4), (3, 5)]\n",
    ">>>\n",
    ">>> B = [[1,2,3],[3,4,5],[7,8]]\n",
    ">>> print list(product(*B))\n",
    "[(1, 3, 7), (1, 3, 8), (1, 4, 7), (1, 4, 8), (1, 5, 7), (1, 5, 8), (2, 3, 7), (2, 3, 8), (2, 4, 7), (2, 4, 8), (2, 5, 7), (2, 5, 8), (3, 3, 7), (3, 3, 8), (3, 4, 7), (3, 4, 8), (3, 5, 7), (3, 5, 8)]"
   ]
  },
  {
   "cell_type": "markdown",
   "id": "d9634eb1",
   "metadata": {},
   "source": [
    "Task\n",
    "You are given a two lists  and . Your task is to compute their cartesian product X.\n",
    "Example\n",
    "A = [1, 2]\n",
    "B = [3, 4]\n",
    "\n",
    "AxB = [(1, 3), (1, 4), (2, 3), (2, 4)]\n",
    "Note:  and  are sorted lists, and the cartesian product's tuples should be output in sorted order.\n",
    "Input Format\n",
    "The first line contains the space separated elements of list .\n",
    "The second line contains the space separated elements of list .\n",
    "Both lists have no duplicate integer elements.\n",
    "Constraints\n",
    "\n",
    "\n",
    "Output Format\n",
    "Output the space separated tuples of the cartesian product.\n",
    "Sample Input\n",
    " 1 2\n",
    " 3 4\n",
    "Sample Output\n",
    " (1, 3) (1, 4) (2, 3) (2, 4)"
   ]
  },
  {
   "cell_type": "code",
   "execution_count": 35,
   "id": "06478c36",
   "metadata": {},
   "outputs": [
    {
     "ename": "SyntaxError",
     "evalue": "unterminated string literal (detected at line 8) (3012639222.py, line 8)",
     "output_type": "error",
     "traceback": [
      "\u001b[0;36m  Cell \u001b[0;32mIn[35], line 8\u001b[0;36m\u001b[0m\n\u001b[0;31m    Note:  and  are sorted lists, and the cartesian product's tuples should be output in sorted order.\u001b[0m\n\u001b[0m                                                           ^\u001b[0m\n\u001b[0;31mSyntaxError\u001b[0m\u001b[0;31m:\u001b[0m unterminated string literal (detected at line 8)\n"
     ]
    }
   ],
   "source": [
    "Task\n",
    "You are given a two lists  and . Your task is to compute their cartesian product X.\n",
    "Example\n",
    "A = [1, 2]\n",
    "B = [3, 4]\n",
    "\n",
    "AxB = [(1, 3), (1, 4), (2, 3), (2, 4)]\n",
    "Note:  and  are sorted lists, and the cartesian product's tuples should be output in sorted order.\n",
    "Input Format\n",
    "The first line contains the space separated elements of list .\n",
    "The second line contains the space separated elements of list .\n",
    "Both lists have no duplicate integer elements.\n",
    "Constraints\n",
    "\n",
    "\n",
    "Output Format\n",
    "Output the space separated tuples of the cartesian product.\n",
    "Sample Input\n",
    " 1 2\n",
    " 3 4\n",
    "Sample Output\n",
    " (1, 3) (1, 4) (2, 3) (2, 4)"
   ]
  },
  {
   "cell_type": "code",
   "execution_count": null,
   "id": "8197d0b7",
   "metadata": {},
   "outputs": [
    {
     "name": "stdout",
     "output_type": "stream",
     "text": [
      "(1, 3) (1, 4) (2, 3) (2, 4)\n"
     ]
    }
   ],
   "source": [
    "from itertools import product\n",
    "\n",
    "A = map(int, input().split())\n",
    "B = map(int, input().split())\n",
    "\n",
    "print(\" \".join(str(t) for t in product(A, B)))"
   ]
  },
  {
   "cell_type": "code",
   "execution_count": 48,
   "id": "b6a6cdab",
   "metadata": {},
   "outputs": [
    {
     "name": "stdout",
     "output_type": "stream",
     "text": [
      "AC\n",
      "AH\n",
      "AK\n",
      "CA\n",
      "CH\n",
      "CK\n",
      "HA\n",
      "HC\n",
      "HK\n",
      "KA\n",
      "KC\n",
      "KH\n"
     ]
    }
   ],
   "source": [
    "# itertools.permutations()\n",
    "\n",
    "from itertools import permutations\n",
    "\n",
    "char, size = map(str, input().split())\n",
    "\n",
    "for val in sorted(permutations(char, int(size))):\n",
    "    print(\"\".join(val))\n"
   ]
  },
  {
   "cell_type": "code",
   "execution_count": null,
   "id": "485cf174",
   "metadata": {},
   "outputs": [],
   "source": []
  }
 ],
 "metadata": {
  "kernelspec": {
   "display_name": "base",
   "language": "python",
   "name": "python3"
  },
  "language_info": {
   "codemirror_mode": {
    "name": "ipython",
    "version": 3
   },
   "file_extension": ".py",
   "mimetype": "text/x-python",
   "name": "python",
   "nbconvert_exporter": "python",
   "pygments_lexer": "ipython3",
   "version": "3.12.8"
  }
 },
 "nbformat": 4,
 "nbformat_minor": 5
}
