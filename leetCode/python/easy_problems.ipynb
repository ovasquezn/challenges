{
 "cells": [
  {
   "cell_type": "code",
   "execution_count": 18,
   "id": "856c59f1",
   "metadata": {},
   "outputs": [
    {
     "name": "stdout",
     "output_type": "stream",
     "text": [
      "5\n",
      "5\n",
      "0\n"
     ]
    },
    {
     "data": {
      "text/plain": [
       "5"
      ]
     },
     "execution_count": 18,
     "metadata": {},
     "output_type": "execute_result"
    }
   ],
   "source": [
    "\n",
    "from typing import List\n",
    "\n",
    "class Solution:\n",
    "    def maxAdjacentDistance(self, nums: List[int]) -> int:\n",
    "        nums.append(nums[0])\n",
    "        max_diff = 0\n",
    "        for i in range(len(nums)-1):\n",
    "            diff = abs(nums[i+1]-nums[i])\n",
    "            print(diff)\n",
    "            if diff>max_diff:\n",
    "                max_diff = diff\n",
    "        return max_diff\n",
    "\n",
    "Test = Solution()\n",
    "Test.maxAdjacentDistance([-5,-10,-5])"
   ]
  },
  {
   "cell_type": "code",
   "execution_count": null,
   "id": "53f1fbe8",
   "metadata": {},
   "outputs": [],
   "source": [
    "\n",
    "# 3423. Maximum Difference Between Adjacent Elements in a Circular Array\n",
    "\n",
    "from typing import List\n",
    "\n",
    "class Solution:\n",
    "    def minimizeMax(self, nums: List[int], p: int) -> int:\n",
    "        # Primero ordenamos la lista\n",
    "        nums.sort()\n",
    "\n",
    "        # Función auxiliar que verifica si es posible formar al menos 'p' pares\n",
    "        # donde cada par tiene una diferencia <= max_diff\n",
    "        def can_form_pairs(max_diff):\n",
    "            count = 0\n",
    "            i = 0\n",
    "            # Recorremos el arreglo linealmente para formar pares con diferencia <= max_diff\n",
    "            while i < len(nums) - 1:\n",
    "                # Si la diferencia entre nums[i+1] y nums[i] cumple, formamos un par\n",
    "                if nums[i+1] - nums[i] <= max_diff:\n",
    "                    count += 1\n",
    "                    i += 2  # usamos ambos índices del par, así que los saltamos\n",
    "                else:\n",
    "                    i += 1 # si no cumple, intentamos formar el siguiente par desde el siguiente índice\n",
    "            # Retornamos si pudimos formar al menos 'p' pares válidos\n",
    "            return count >= p\n",
    "\n",
    "        # Binary Search sobre el rango posible de diferencias\n",
    "        left, right = 0, nums[-1] - nums[0] # rango de búsqueda: mínimo = 0, máximo = diff más grande posible\n",
    "        while left < right:\n",
    "            mid = (left + right) // 2 # mitad del rango actual, posible valor de diferencia máxima\n",
    "            if can_form_pairs(mid):\n",
    "                # Si puedo formar suficientes pares con esta diferencia o menos, intento con menos\n",
    "                right = mid\n",
    "            else:\n",
    "                # Si no es posible, necesito permitir mayor diferencia\n",
    "                left = mid + 1\n",
    "        # Al finalizar, 'left' contiene el valor mínimo posible de la diferencia máxima entre pares\n",
    "        return left\n",
    "\n",
    "Test = Solution()\n",
    "\n",
    "Test.minimizeMax([10, 1, 2, 7, 1, 3],2)"
   ]
  },
  {
   "cell_type": "code",
   "execution_count": null,
   "id": "45e86377",
   "metadata": {},
   "outputs": [],
   "source": []
  },
  {
   "cell_type": "code",
   "execution_count": null,
   "id": "f31bb430",
   "metadata": {},
   "outputs": [],
   "source": [
    "# LeetCode\n",
    "# 2616. Minimize the Maximum Difference of Pairs\n",
    "# Medium\n"
   ]
  }
 ],
 "metadata": {
  "kernelspec": {
   "display_name": "base",
   "language": "python",
   "name": "python3"
  },
  "language_info": {
   "codemirror_mode": {
    "name": "ipython",
    "version": 3
   },
   "file_extension": ".py",
   "mimetype": "text/x-python",
   "name": "python",
   "nbconvert_exporter": "python",
   "pygments_lexer": "ipython3",
   "version": "3.12.8"
  }
 },
 "nbformat": 4,
 "nbformat_minor": 5
}
