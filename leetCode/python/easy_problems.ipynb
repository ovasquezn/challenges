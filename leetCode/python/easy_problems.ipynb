{
 "cells": [
  {
   "cell_type": "code",
   "execution_count": null,
   "id": "2c16d257",
   "metadata": {},
   "outputs": [
    {
     "data": {
      "text/plain": [
       "True"
      ]
     },
     "execution_count": 4,
     "metadata": {},
     "output_type": "execute_result"
    }
   ],
   "source": [
    "# 9 Palindrome Number\n",
    "# Given an integer x, return true if x is a palindrome, and false otherwise.\n",
    "#\n",
    "# Example 1:\n",
    "# Input: x = 121\n",
    "# Output: true\n",
    "# Explanation: 121 reads as 121 from left to right and from right to left.\n",
    "#\n",
    "# Example 2:\n",
    "# Input: x = -121\n",
    "# Output: false\n",
    "# Explanation: From left to right, it reads -121. From right to left, it becomes 121-. Therefore it is not a palindrome.\n",
    "#\n",
    "# Example 3:\n",
    "# Input: x = 10\n",
    "# Output: false\n",
    "# Explanation: Reads 01 from right to left. Therefore it is not a palindrome.\n",
    "class Solution:\n",
    "    def isPalindrome(self, x: int) -> bool:\n",
    "        return str(x) == str(x)[::-1]\n",
    "Test = Solution()\n",
    "Test.isPalindrome(121)\n",
    "\n",
    "# Con dígitos\n",
    "class Solution2:\n",
    "    def isPalindrome(self, x: int) -> bool:\n",
    "        if x < 0 or (x % 10 == 0 and x != 0):\n",
    "            return False\n",
    "        original = x\n",
    "        reversed_num = 0\n",
    "        while x > 0:\n",
    "            reversed_num = reversed_num * 10 + x % 10\n",
    "            x //= 10\n",
    "        return original == reversed_num\n",
    "\n",
    "\n"
   ]
  },
  {
   "cell_type": "code",
   "execution_count": null,
   "id": "d228cbbc",
   "metadata": {},
   "outputs": [
    {
     "data": {
      "text/plain": [
       "1003"
      ]
     },
     "execution_count": 14,
     "metadata": {},
     "output_type": "execute_result"
    }
   ],
   "source": [
    "\n",
    "# 13. Roman to Integer\n",
    "# Roman numerals are represented by seven different symbols: I, V, X, L, C, D and M.\n",
    "\n",
    "# Symbol       Value\n",
    "# I             1\n",
    "# V             5\n",
    "# X             10\n",
    "# L             50\n",
    "# C             100\n",
    "# D             500\n",
    "# M             1000\n",
    "# For example, 2 is written as II in Roman numeral, just two ones added together. 12 is written as XII,\n",
    "#  which is simply X + II. The number 27 is written as XXVII, which is XX + V + II.\n",
    "\n",
    "# Roman numerals are usually written largest to smallest from left to right. However, the numeral for four is not IIII.\n",
    "#  Instead, the number four is written as IV. Because the one is before the five we subtract it making four.\n",
    "#  The same principle applies to the number nine, which is written as IX. There are six instances where subtraction is used:\n",
    "# I can be placed before V (5) and X (10) to make 4 and 9. \n",
    "# X can be placed before L (50) and C (100) to make 40 and 90. \n",
    "# C can be placed before D (500) and M (1000) to make 400 and 900.\n",
    "# Given a roman numeral, convert it to an integer.\n",
    "\n",
    "# Example 1:\n",
    "\n",
    "# Input: s = \"III\"\n",
    "# Output: 3\n",
    "# Explanation: III = 3.\n",
    "# Example 2:\n",
    "\n",
    "# Input: s = \"LVIII\"\n",
    "# Output: 58\n",
    "# Explanation: L = 50, V= 5, III = 3.\n",
    "# Example 3:\n",
    "\n",
    "# Input: s = \"MCMXCIV\"\n",
    "# Output: 1994\n",
    "# Explanation: M = 1000, CM = 900, XC = 90 and IV = 4.\n",
    "\n",
    "class Solution:\n",
    "    def romanToInt(self, s: str) -> int:\n",
    "        roman_conversion = {\n",
    "            \"I\":1,\n",
    "            \"V\":5,\n",
    "            \"X\":10,\n",
    "            \"L\":50,\n",
    "            \"C\":100,\n",
    "            \"D\":500,\n",
    "            \"M\":1000\n",
    "        }\n",
    "        resultado = 0\n",
    "        for i in range(len(s)):\n",
    "            if i + 1 < len(s) and roman_conversion[s[i]] < roman_conversion[s[i + 1]]:\n",
    "                resultado -= roman_conversion[s[i]]\n",
    "            else:\n",
    "                resultado += roman_conversion[s[i]]\n",
    "        return resultado\n",
    "Test = Solution()\n",
    "Test.romanToInt('MIII')"
   ]
  },
  {
   "cell_type": "code",
   "execution_count": 20,
   "id": "f947aa49",
   "metadata": {},
   "outputs": [
    {
     "name": "stdout",
     "output_type": "stream",
     "text": [
      "fl\n",
      "a\n",
      "\n",
      "\n"
     ]
    }
   ],
   "source": [
    "# 14. Longest Common Prefix\n",
    "# Write a function to find the longest common prefix string amongst an array of strings.\n",
    "# If there is no common prefix, return an empty string \"\".\n",
    "\n",
    "# Example 1:\n",
    "# Input: strs = [\"flower\",\"flow\",\"flight\"]\n",
    "# Output: \"fl\"\n",
    "\n",
    "# Example 2:\n",
    "# Input: strs = [\"dog\",\"racecar\",\"car\"]\n",
    "# Output: \"\"\n",
    "# Explanation: There is no common prefix among the input strings.\n",
    " \n",
    "# Constraints:\n",
    "# 1 <= strs.length <= 200\n",
    "# 0 <= strs[i].length <= 200\n",
    "# strs[i] consists of only lowercase English letters if it is non-empty.\n",
    "\n",
    "from typing import List\n",
    "\n",
    "class Solution:\n",
    "    def longestCommonPrefix(self, strs: List[str]) -> str:\n",
    "        if not strs:\n",
    "            return \"\"\n",
    "        start = strs[0]\n",
    "        for i in range(len(start)):\n",
    "            char = start[i]\n",
    "            for palabra in strs:\n",
    "                if i >= len(palabra) or palabra[i] != char:\n",
    "                    return start[:i]\n",
    "        return start\n",
    "    \n",
    "Test = Solution()\n",
    "print(Test.longestCommonPrefix([\"flower\", \"flow\", \"flight\"]))  # \"fl\"\n",
    "print(Test.longestCommonPrefix([\"adog\", \"aracecar\", \"acar\"]))     # \"\"\n",
    "print(Test.longestCommonPrefix([\"\"]))                          # \"\"\n",
    "print(Test.longestCommonPrefix([]))  "
   ]
  },
  {
   "cell_type": "code",
   "execution_count": null,
   "id": "5995b1a6",
   "metadata": {},
   "outputs": [],
   "source": []
  },
  {
   "cell_type": "code",
   "execution_count": 18,
   "id": "856c59f1",
   "metadata": {},
   "outputs": [
    {
     "name": "stdout",
     "output_type": "stream",
     "text": [
      "5\n",
      "5\n",
      "0\n"
     ]
    },
    {
     "data": {
      "text/plain": [
       "5"
      ]
     },
     "execution_count": 18,
     "metadata": {},
     "output_type": "execute_result"
    }
   ],
   "source": [
    "\n",
    "from typing import List\n",
    "\n",
    "class Solution:\n",
    "    def maxAdjacentDistance(self, nums: List[int]) -> int:\n",
    "        nums.append(nums[0])\n",
    "        max_diff = 0\n",
    "        for i in range(len(nums)-1):\n",
    "            diff = abs(nums[i+1]-nums[i])\n",
    "            print(diff)\n",
    "            if diff>max_diff:\n",
    "                max_diff = diff\n",
    "        return max_diff\n",
    "\n",
    "Test = Solution()\n",
    "Test.maxAdjacentDistance([-5,-10,-5])"
   ]
  },
  {
   "cell_type": "code",
   "execution_count": null,
   "id": "53f1fbe8",
   "metadata": {},
   "outputs": [],
   "source": [
    "\n",
    "# 3423. Maximum Difference Between Adjacent Elements in a Circular Array\n",
    "\n",
    "from typing import List\n",
    "\n",
    "class Solution:\n",
    "    def minimizeMax(self, nums: List[int], p: int) -> int:\n",
    "        # Primero ordenamos la lista\n",
    "        nums.sort()\n",
    "\n",
    "        # Función auxiliar que verifica si es posible formar al menos 'p' pares\n",
    "        # donde cada par tiene una diferencia <= max_diff\n",
    "        def can_form_pairs(max_diff):\n",
    "            count = 0\n",
    "            i = 0\n",
    "            # Recorremos el arreglo linealmente para formar pares con diferencia <= max_diff\n",
    "            while i < len(nums) - 1:\n",
    "                # Si la diferencia entre nums[i+1] y nums[i] cumple, formamos un par\n",
    "                if nums[i+1] - nums[i] <= max_diff:\n",
    "                    count += 1\n",
    "                    i += 2  # usamos ambos índices del par, así que los saltamos\n",
    "                else:\n",
    "                    i += 1 # si no cumple, intentamos formar el siguiente par desde el siguiente índice\n",
    "            # Retornamos si pudimos formar al menos 'p' pares válidos\n",
    "            return count >= p\n",
    "\n",
    "        # Binary Search sobre el rango posible de diferencias\n",
    "        left, right = 0, nums[-1] - nums[0] # rango de búsqueda: mínimo = 0, máximo = diff más grande posible\n",
    "        while left < right:\n",
    "            mid = (left + right) // 2 # mitad del rango actual, posible valor de diferencia máxima\n",
    "            if can_form_pairs(mid):\n",
    "                # Si puedo formar suficientes pares con esta diferencia o menos, intento con menos\n",
    "                right = mid\n",
    "            else:\n",
    "                # Si no es posible, necesito permitir mayor diferencia\n",
    "                left = mid + 1\n",
    "        # Al finalizar, 'left' contiene el valor mínimo posible de la diferencia máxima entre pares\n",
    "        return left\n",
    "\n",
    "Test = Solution()\n",
    "\n",
    "Test.minimizeMax([10, 1, 2, 7, 1, 3],2)"
   ]
  },
  {
   "cell_type": "code",
   "execution_count": null,
   "id": "45e86377",
   "metadata": {},
   "outputs": [],
   "source": []
  },
  {
   "cell_type": "code",
   "execution_count": null,
   "id": "f31bb430",
   "metadata": {},
   "outputs": [],
   "source": [
    "# LeetCode\n",
    "# 2616. Minimize the Maximum Difference of Pairs\n",
    "# Medium\n"
   ]
  }
 ],
 "metadata": {
  "kernelspec": {
   "display_name": "base",
   "language": "python",
   "name": "python3"
  },
  "language_info": {
   "codemirror_mode": {
    "name": "ipython",
    "version": 3
   },
   "file_extension": ".py",
   "mimetype": "text/x-python",
   "name": "python",
   "nbconvert_exporter": "python",
   "pygments_lexer": "ipython3",
   "version": "3.12.8"
  }
 },
 "nbformat": 4,
 "nbformat_minor": 5
}
